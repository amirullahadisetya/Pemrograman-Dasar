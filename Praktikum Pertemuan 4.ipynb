{
  "nbformat": 4,
  "nbformat_minor": 0,
  "metadata": {
    "colab": {
      "provenance": [],
      "authorship_tag": "ABX9TyMy0xl+vYKrjzgun3Orb5Cj",
      "include_colab_link": true
    },
    "kernelspec": {
      "name": "python3",
      "display_name": "Python 3"
    },
    "language_info": {
      "name": "python"
    }
  },
  "cells": [
    {
      "cell_type": "markdown",
      "metadata": {
        "id": "view-in-github",
        "colab_type": "text"
      },
      "source": [
        "<a href=\"https://colab.research.google.com/github/amirullahadisetya/Pemrograman-Dasar/blob/main/Praktikum%20Pertemuan%204.ipynb\" target=\"_parent\"><img src=\"https://colab.research.google.com/assets/colab-badge.svg\" alt=\"Open In Colab\"/></a>"
      ]
    },
    {
      "cell_type": "code",
      "execution_count": null,
      "metadata": {
        "colab": {
          "base_uri": "https://localhost:8080/"
        },
        "id": "8PILX-WHhCBY",
        "outputId": "8359350e-6f0a-4735-e798-236fe8084b49"
      },
      "outputs": [
        {
          "output_type": "stream",
          "name": "stdout",
          "text": [
            "Masukkan umur pengunjung: 23\n",
            "Pengunjung adalah orang dewasa.\n"
          ]
        }
      ],
      "source": [
        "# Praktikum 1\n",
        "\n",
        "# Program Menentukan Kategori Umur Pengunjung\n",
        "\n",
        "# Variabel untuk menyimpan umur pengunjung\n",
        "umur = int(input(\"Masukkan umur pengunjung: \"))\n",
        "\n",
        "# Program hanya akan mencetak pesan jika umur di atas 17\n",
        "if umur > 17:\n",
        "    print(\"Pengunjung adalah orang dewasa.\")\n"
      ]
    },
    {
      "cell_type": "code",
      "source": [
        "# Praktikum 2\n",
        "\n",
        "# Program Login Sederhana\n",
        "\n",
        "# Input username dan password\n",
        "username = input(\"Masukkan username: \")\n",
        "password = input(\"Masukkan password: \")\n",
        "\n",
        "# Cek username dan password\n",
        "if username == \"admin\" and password == \"1234\":\n",
        "    print(\"Login berhasil\")\n",
        "else:\n",
        "    print(\"Login gagal\")\n",
        "\n"
      ],
      "metadata": {
        "colab": {
          "base_uri": "https://localhost:8080/"
        },
        "id": "ZupM79Fqib74",
        "outputId": "add6c5c8-3fa3-4a53-94d1-b1a4773b585d"
      },
      "execution_count": null,
      "outputs": [
        {
          "output_type": "stream",
          "name": "stdout",
          "text": [
            "Masukkan username: admin\n",
            "Masukkan password: 1234\n",
            "Login berhasil\n"
          ]
        }
      ]
    },
    {
      "cell_type": "code",
      "source": [
        "# Praktikum 3\n",
        "\n",
        "# Program untuk mengecek bonus dan diskon belanja\n",
        "\n",
        "# Input total belanja\n",
        "total_belanja = int(input(\"Total belanja: Rp \"))\n",
        "\n",
        "# Jumlah awal yang harus dibayar\n",
        "bayar = total_belanja\n",
        "\n",
        "# Cek apakah belanja di atas 100 ribu\n",
        "if total_belanja > 100000:\n",
        "    print(\"Selamat! Karena belanja > Rp 100.000, Anda mendapat Voucher Makan\")\n",
        "    print(\"Dan diskon 5%\")\n",
        "\n",
        "    # Hitung diskonnya\n",
        "    diskon = total_belanja * 5 / 100\n",
        "    bayar = total_belanja - diskon\n",
        "\n",
        "# Cetak struk\n",
        "print(\"Total yang harus dibayar: Rp\", int(bayar))\n",
        "print(\"Terima kasih sudah berbelanja di Toko Kami\")\n",
        "print(\"Kami tunggu kunjungan Anda selanjutnya.\")\n",
        "\n"
      ],
      "metadata": {
        "colab": {
          "base_uri": "https://localhost:8080/"
        },
        "id": "jkylXTNBk_pI",
        "outputId": "4af05482-72c5-4dc9-a6cf-5275702fcd5d"
      },
      "execution_count": null,
      "outputs": [
        {
          "output_type": "stream",
          "name": "stdout",
          "text": [
            "Total belanja: Rp 345000\n",
            "Selamat! Karena belanja > Rp 100.000, Anda mendapat Voucher Makan\n",
            "Dan diskon 5%\n",
            "Total yang harus dibayar: Rp 327750\n",
            "Terima kasih sudah berbelanja di Toko Kami\n",
            "Kami tunggu kunjungan Anda selanjutnya.\n"
          ]
        }
      ]
    },
    {
      "cell_type": "code",
      "source": [
        "# Praktikum 4\n",
        "\n",
        "# Program untuk memeriksa apakah ada notifikasi baru\n",
        "\n",
        "# Variabel notifikasi (True = ada notifikasi, False = tidak ada)\n",
        "ada_notifikasi_baru = True\n",
        "\n",
        "# Cek apakah ada notifikasi\n",
        "if ada_notifikasi_baru:\n",
        "    print(\"Anda memiliki pesan baru!\")\n",
        "else:\n",
        "    print(\"Tidak ada pesan baru.\")\n"
      ],
      "metadata": {
        "colab": {
          "base_uri": "https://localhost:8080/"
        },
        "id": "fXiU_6lB8R_w",
        "outputId": "946c798c-b55b-4f70-84d5-94cae068a6db"
      },
      "execution_count": null,
      "outputs": [
        {
          "output_type": "stream",
          "name": "stdout",
          "text": [
            "Anda memiliki pesan baru!\n"
          ]
        }
      ]
    },
    {
      "cell_type": "code",
      "source": [
        "# Praktikum 5\n",
        "\n",
        "# Program untuk mengecek apakah boleh membuat SIM\n",
        "\n",
        "# Input umur\n",
        "umur = int(input(\"Berapa umur kamu: \"))\n",
        "\n",
        "# Percabangan ganda\n",
        "if umur >= 18:\n",
        "    print(\"Kamu boleh membuat SIM\")\n",
        "else:\n",
        "    print(\"Kamu belum boleh membuat SIM\")\n"
      ],
      "metadata": {
        "colab": {
          "base_uri": "https://localhost:8080/"
        },
        "id": "oE79JNXK8oqP",
        "outputId": "7f2c8125-5f8d-4a9f-9811-6a64b0dbc722"
      },
      "execution_count": null,
      "outputs": [
        {
          "output_type": "stream",
          "name": "stdout",
          "text": [
            "Berapa umur kamu: 19\n",
            "Kamu boleh membuat SIM\n"
          ]
        }
      ]
    },
    {
      "cell_type": "code",
      "source": [
        "# Praktikum 6\n",
        "\n",
        "# Program menghitung total bayar dengan diskon\n",
        "\n",
        "# Input total belanja\n",
        "total_belanja = int(input(\"Masukkan total belanja: Rp \"))\n",
        "\n",
        "# Cek apakah belanja lebih dari 200 ribu\n",
        "if total_belanja > 200000:\n",
        "    # Hitung diskon 10%\n",
        "    diskon = total_belanja * 0.10\n",
        "    total_bayar = total_belanja - diskon\n",
        "    print(f\"Anda mendapat diskon 10%! Total bayar: Rp {int(total_bayar)}\")\n",
        "else:\n",
        "    print(f\"Total bayar: Rp {total_belanja}\")\n"
      ],
      "metadata": {
        "colab": {
          "base_uri": "https://localhost:8080/"
        },
        "id": "C13mj1nf89nA",
        "outputId": "aca58640-3214-4090-d15f-4794912aa2a6"
      },
      "execution_count": null,
      "outputs": [
        {
          "output_type": "stream",
          "name": "stdout",
          "text": [
            "Masukkan total belanja: Rp 500000\n",
            "Anda mendapat diskon 10%! Total bayar: Rp 450000\n"
          ]
        }
      ]
    },
    {
      "cell_type": "code",
      "source": [
        "# Praktikum 7\n",
        "\n",
        "# Program menentukan bilangan genap atau ganjil\n",
        "\n",
        "# Input bilangan\n",
        "angka = int(input(\"Masukkan bilangan: \"))\n",
        "\n",
        "# Cek genap atau ganjil\n",
        "if angka % 2 == 0:\n",
        "    print(\"Bilangan Genap\")\n",
        "else:\n",
        "    print(\"Bilangan Ganjil\")\n"
      ],
      "metadata": {
        "colab": {
          "base_uri": "https://localhost:8080/"
        },
        "id": "ZbgELALJ9K_4",
        "outputId": "27c6bbd1-73b8-4cfc-ecf8-c72bc24c9cf0"
      },
      "execution_count": null,
      "outputs": [
        {
          "output_type": "stream",
          "name": "stdout",
          "text": [
            "Masukkan bilangan: 32\n",
            "Bilangan Genap\n"
          ]
        }
      ]
    },
    {
      "cell_type": "code",
      "source": [
        "# Praktikum 8\n",
        "\n",
        "# Program penilaian dengan if-elif-else\n",
        "\n",
        "# Input nilai\n",
        "nilai = int(input(\"Masukkan nilai: \"))\n",
        "\n",
        "# Cek kategori nilai\n",
        "if nilai >= 85:\n",
        "    print(\"Luar biasa! Nilai A\")\n",
        "elif nilai >= 70:\n",
        "    print(\"Bagus! Nilai B\")\n",
        "elif nilai >= 60:\n",
        "    print(\"Cukup. Nilai C\")\n",
        "else:\n",
        "    print(\"Nilai kurang, perlu belajar lebih giat.\")\n"
      ],
      "metadata": {
        "colab": {
          "base_uri": "https://localhost:8080/"
        },
        "id": "zHPH8r5Z9VLU",
        "outputId": "ebc97021-ea7c-4e4d-af0c-43be9bd5b651"
      },
      "execution_count": null,
      "outputs": [
        {
          "output_type": "stream",
          "name": "stdout",
          "text": [
            "Masukkan nilai: 77\n",
            "Bagus! Nilai B\n"
          ]
        }
      ]
    },
    {
      "cell_type": "code",
      "source": [
        "# Praktikum 9\n",
        "\n",
        "# Program menentukan jenis diskon berdasarkan hari\n",
        "\n",
        "# Input hari\n",
        "hari = input(\"Masukkan hari: \")\n",
        "\n",
        "# Cek jenis diskon\n",
        "if hari == \"Sabtu\" or hari == \"Minggu\":\n",
        "    diskon = 0.20   # Diskon 20%\n",
        "    print(f\"Selamat! Anda mendapat diskon akhir pekan sebesar {diskon*100}%.\")\n",
        "elif hari == \"Jumat\":\n",
        "    diskon = 0.15   # Diskon 15%\n",
        "    print(f\"Diskon spesial Jumat! Anda mendapat potongan sebesar {diskon*100}%.\")\n",
        "else:\n",
        "    diskon = 0.05   # Diskon 5%\n",
        "    print(f\"Anda mendapat diskon hari biasa sebesar {diskon*100}%.\")\n"
      ],
      "metadata": {
        "colab": {
          "base_uri": "https://localhost:8080/"
        },
        "id": "uR2Zwxn19rsB",
        "outputId": "cd78b059-9b48-46a1-8f0c-9e54363db52a"
      },
      "execution_count": null,
      "outputs": [
        {
          "output_type": "stream",
          "name": "stdout",
          "text": [
            "Masukkan hari: Jumat\n",
            "Diskon spesial Jumat! Anda mendapat potongan sebesar 15.0%.\n"
          ]
        }
      ]
    },
    {
      "cell_type": "code",
      "source": [
        "# Praktikum 10\n",
        "\n",
        "# Program Konversi Mata Uang\n",
        "\n",
        "# Input jumlah uang dalam Rupiah\n",
        "rupiah = int(input(\"Masukkan jumlah uang (Rp): \"))\n",
        "\n",
        "# Pilihan konversi\n",
        "print(\"1. Dollar (USD)\")\n",
        "print(\"2. Euro (EUR)\")\n",
        "print(\"3. Yen (JPY)\")\n",
        "\n",
        "# Input pilihan\n",
        "pilih = int(input(\"Pilih konversi (1/2/3): \"))\n",
        "\n",
        "# Proses konversi\n",
        "if pilih == 1:\n",
        "    print(\"Dalam Dollar (USD):\", rupiah / 15000)\n",
        "elif pilih == 2:\n",
        "    print(\"Dalam Euro (EUR):\", rupiah / 16000)\n",
        "elif pilih == 3:\n",
        "    print(\"Dalam Yen (JPY):\", rupiah / 120)\n",
        "else:\n",
        "    print(\"Pilihan tidak valid\")\n"
      ],
      "metadata": {
        "colab": {
          "base_uri": "https://localhost:8080/"
        },
        "id": "mq2EzlX6-FpC",
        "outputId": "883295d0-9672-4abf-9335-744d64efc2ae"
      },
      "execution_count": null,
      "outputs": [
        {
          "output_type": "stream",
          "name": "stdout",
          "text": [
            "Masukkan jumlah uang (Rp): 250000\n",
            "1. Dollar (USD)\n",
            "2. Euro (EUR)\n",
            "3. Yen (JPY)\n",
            "Pilih konversi (1/2/3): 2\n",
            "Dalam Euro (EUR): 15.625\n"
          ]
        }
      ]
    }
  ]
}