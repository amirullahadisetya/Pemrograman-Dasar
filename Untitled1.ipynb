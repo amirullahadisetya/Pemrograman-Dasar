{
  "nbformat": 4,
  "nbformat_minor": 0,
  "metadata": {
    "colab": {
      "provenance": [],
      "authorship_tag": "ABX9TyNoksgKYW/TmpYEloGaw+Ih",
      "include_colab_link": true
    },
    "kernelspec": {
      "name": "python3",
      "display_name": "Python 3"
    },
    "language_info": {
      "name": "python"
    }
  },
  "cells": [
    {
      "cell_type": "markdown",
      "metadata": {
        "id": "view-in-github",
        "colab_type": "text"
      },
      "source": [
        "<a href=\"https://colab.research.google.com/github/amirullahadisetya/Pemrograman-Dasar/blob/main/Untitled1.ipynb\" target=\"_parent\"><img src=\"https://colab.research.google.com/assets/colab-badge.svg\" alt=\"Open In Colab\"/></a>"
      ]
    },
    {
      "cell_type": "code",
      "execution_count": 4,
      "metadata": {
        "colab": {
          "base_uri": "https://localhost:8080/"
        },
        "id": "BIS79QJBhhO_",
        "outputId": "735569dc-bc0c-49b1-8496-b744aba840b6"
      },
      "outputs": [
        {
          "output_type": "stream",
          "name": "stdout",
          "text": [
            "=== Biodata Mahasiswa ===\n",
            "Nama        : Amir\n",
            "Umur        : 19\n",
            "Jurusan     : Elektro\n",
            "Semester    : 3\n",
            "Mata Kuliah : Pemrograman Dasar\n",
            "Zodiak      : Gemini\n",
            "Hobi        : Nonton\n",
            "Asal        : Batam\n",
            "Status Lulus: False\n",
            "\n",
            "=== Tipe Data Masing-masing Variabel ===\n",
            "Tipe data nama        : <class 'str'>\n",
            "Tipe data umur        : <class 'int'>\n",
            "Tipe data jurusan     : <class 'str'>\n",
            "Tipe data semester    : <class 'int'>\n",
            "Tipe data matakuliah  : <class 'str'>\n",
            "Tipe data zodiak  : <class 'str'>\n",
            "Tipe data hobi  : <class 'str'>\n",
            "Tipe data asal  : <class 'str'>\n",
            "Tipe data status_lulus: <class 'bool'>\n"
          ]
        }
      ],
      "source": [
        "# ===============================\n",
        "# Praktikum Pemrograman Dasar\n",
        "# Google Colab Notebook\n",
        "# ===============================\n",
        "\n",
        "# 1. Definisi Variabel\n",
        "nama = \"Amir\"\n",
        "umur = 19\n",
        "jurusan = \"Elektro\"\n",
        "semester = 3\n",
        "matakuliah = \"Pemrograman Dasar\"\n",
        "zodiak = \"Gemini\"\n",
        "hobi = \"Nonton\"\n",
        "asal = \"Batam\"\n",
        "status_lulus = False\n",
        "\n",
        "# 2. Menampilkan Data\n",
        "print(\"=== Biodata Mahasiswa ===\")\n",
        "print(\"Nama        :\", nama)\n",
        "print(\"Umur        :\", umur)\n",
        "print(\"Jurusan     :\", jurusan)\n",
        "print(\"Semester    :\", semester)\n",
        "print(\"Mata Kuliah :\", matakuliah)\n",
        "print(\"Zodiak      :\",  zodiak)\n",
        "print(\"Hobi        :\", hobi)\n",
        "print(\"Asal        :\", asal)\n",
        "print(\"Status Lulus:\", status_lulus)\n",
        "\n",
        "\n",
        "# 3. Menampilkan Jenis Tipe Data\n",
        "print(\"\\n=== Tipe Data Masing-masing Variabel ===\")\n",
        "print(\"Tipe data nama        :\", type(nama))\n",
        "print(\"Tipe data umur        :\", type(umur))\n",
        "print(\"Tipe data jurusan     :\", type(jurusan))\n",
        "print(\"Tipe data semester    :\", type(semester))\n",
        "print(\"Tipe data matakuliah  :\", type(matakuliah))\n",
        "print(\"Tipe data zodiak  :\", type(zodiak))\n",
        "print(\"Tipe data hobi  :\", type(hobi))\n",
        "print(\"Tipe data asal  :\", type(asal))\n",
        "print(\"Tipe data status_lulus:\", type(status_lulus))"
      ]
    }
  ]
}