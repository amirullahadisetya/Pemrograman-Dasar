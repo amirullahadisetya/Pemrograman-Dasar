{
  "nbformat": 4,
  "nbformat_minor": 0,
  "metadata": {
    "colab": {
      "provenance": [],
      "authorship_tag": "ABX9TyMO2jigoAl08o0V2c6/TIb5",
      "include_colab_link": true
    },
    "kernelspec": {
      "name": "python3",
      "display_name": "Python 3"
    },
    "language_info": {
      "name": "python"
    }
  },
  "cells": [
    {
      "cell_type": "markdown",
      "metadata": {
        "id": "view-in-github",
        "colab_type": "text"
      },
      "source": [
        "<a href=\"https://colab.research.google.com/github/amirullahadisetya/Pemrograman-Dasar/blob/main/Pertemuan%203%20Tugas.ipynb\" target=\"_parent\"><img src=\"https://colab.research.google.com/assets/colab-badge.svg\" alt=\"Open In Colab\"/></a>"
      ]
    },
    {
      "cell_type": "code",
      "execution_count": 2,
      "metadata": {
        "colab": {
          "base_uri": "https://localhost:8080/"
        },
        "id": "WfznI43yZOKu",
        "outputId": "093b5e42-ccca-456d-8447-e39c553270c5"
      },
      "outputs": [
        {
          "output_type": "stream",
          "name": "stdout",
          "text": [
            "Masukkan jumlah item yang dibeli: 3\n",
            "Harga item 1: 36000\n",
            "Harga item 2: 98000\n",
            "Harga item 3: 43500\n",
            "Apakah Anda member? (ya/tidak): ya\n",
            "\n",
            "=== STRUK BELANJA ===\n",
            "Subtotal             : 177500\n",
            "Diskon (15%)         : 26625.0\n",
            "Harga setelah Diskon : 150875.0\n",
            "PPN (11%)            : 16596.25\n",
            "Total Bayar          : 167471.25\n"
          ]
        }
      ],
      "source": [
        "# Tugas\n",
        "\n",
        "# Program Kasir Sederhana\n",
        "\n",
        "# Input data\n",
        "n = int(input(\"Masukkan jumlah item yang dibeli: \"))\n",
        "\n",
        "# Hitung subtotal\n",
        "subtotal = sum([int(input(f\"Harga item {i+1}: \")) for i in range(n)])\n",
        "\n",
        "# Input status member\n",
        "member = input(\"Apakah Anda member? (ya/tidak): \").lower() == \"ya\"\n",
        "\n",
        "# Evaluasi syarat diskon True/False dikonversi jadi 1 atau 0\n",
        "diskon_berlaku = (member and subtotal > 100000) * 1\n",
        "\n",
        "# Hitung diskon\n",
        "diskon = subtotal * 0.15 * diskon_berlaku\n",
        "\n",
        "# Harga setelah diskon\n",
        "harga_setelah_diskon = subtotal - diskon\n",
        "\n",
        "# Hitung PPN 11%\n",
        "ppn = harga_setelah_diskon * 0.11\n",
        "\n",
        "# Total akhir\n",
        "total = harga_setelah_diskon + ppn\n",
        "\n",
        "# Output\n",
        "print(\"\\n=== STRUK BELANJA ===\")\n",
        "print(\"Subtotal             :\", subtotal)\n",
        "print(\"Diskon (15%)         :\", diskon)\n",
        "print(\"Harga setelah Diskon :\", harga_setelah_diskon)\n",
        "print(\"PPN (11%)            :\", ppn)\n",
        "print(\"Total Bayar          :\", total)\n"
      ]
    }
  ]
}