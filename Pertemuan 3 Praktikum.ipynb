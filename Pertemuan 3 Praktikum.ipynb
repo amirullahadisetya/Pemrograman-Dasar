{
  "nbformat": 4,
  "nbformat_minor": 0,
  "metadata": {
    "colab": {
      "provenance": [],
      "authorship_tag": "ABX9TyMVTmmP6Fk6WxG83jateau1",
      "include_colab_link": true
    },
    "kernelspec": {
      "name": "python3",
      "display_name": "Python 3"
    },
    "language_info": {
      "name": "python"
    }
  },
  "cells": [
    {
      "cell_type": "markdown",
      "metadata": {
        "id": "view-in-github",
        "colab_type": "text"
      },
      "source": [
        "<a href=\"https://colab.research.google.com/github/amirullahadisetya/Pemrograman-Dasar/blob/main/Pertemuan%203%20Praktikum.ipynb\" target=\"_parent\"><img src=\"https://colab.research.google.com/assets/colab-badge.svg\" alt=\"Open In Colab\"/></a>"
      ]
    },
    {
      "cell_type": "code",
      "execution_count": null,
      "metadata": {
        "colab": {
          "base_uri": "https://localhost:8080/"
        },
        "id": "mVJ0LCeqfNHY",
        "outputId": "bf995604-9c69-470c-8db9-a55ed5d2e2d3"
      },
      "outputs": [
        {
          "output_type": "stream",
          "name": "stdout",
          "text": [
            "Berapa porsi makan yang Anda beli? : 2\n",
            "Siapa Nama Pelanggan ? : Amir\n",
            "\n",
            "---Data Pesanan---\n",
            "Nama Pelanggan :  Amir\n",
            "Jumlah Porsi   :  2.0\n"
          ]
        }
      ],
      "source": [
        "# Praktikum 1\n",
        "\n",
        "# Meminta input jumlah porsi (tipe data float)\n",
        "total = float(input(\"Berapa porsi makan yang Anda beli? : \"))\n",
        "\n",
        "# Meminta input nama pelanggan (tipe data string)\n",
        "Nama = str(input(\"Siapa Nama Pelanggan ? : \"))\n",
        "\n",
        "print()\n",
        "# Menampilkan hasil input\n",
        "print(\"---Data Pesanan---\")\n",
        "print(\"Nama Pelanggan : \", Nama)\n",
        "print(\"Jumlah Porsi   : \", total)\n"
      ]
    },
    {
      "cell_type": "code",
      "source": [
        "# Praktikum 2\n",
        "\n",
        "# penggunaan format output\n",
        "\n",
        "# %d -> integer\n",
        "jumlah = 5\n",
        "print(\"Amir membeli %d piring Pecel Lele\" % (jumlah))\n",
        "\n",
        "# %f -> float\n",
        "harga = 14.0\n",
        "print(\"Harga 1 porsi Pecel adalah %.3f ribu rupiah\" % (harga))\n",
        "\n",
        "# %s -> string\n",
        "food = \"Pecel Lele\"\n",
        "print(\"Amir sedang memesan %s\" % (food))\n",
        "\n",
        "# %x -> bilangan heksadesimal\n",
        "angka = 255\n",
        "print(\"Angka %d dalam heksadesimal adalah %x\" % (angka, angka))\n",
        "\n",
        "# %o -> bilangan oktal\n",
        "bilangan = 64\n",
        "print(\"Angka %d dalam oktal adalah %o\" % (bilangan, bilangan))\n",
        "\n"
      ],
      "metadata": {
        "colab": {
          "base_uri": "https://localhost:8080/"
        },
        "id": "dE3hHD0jime1",
        "outputId": "b863254d-9e90-4ccc-d2ad-c1d9f5f6ad59"
      },
      "execution_count": null,
      "outputs": [
        {
          "output_type": "stream",
          "name": "stdout",
          "text": [
            "Amir membeli 5 piring Pecel Lele\n",
            "Harga 1 porsi Pecel adalah 14.000 ribu rupiah\n",
            "Amir sedang memesan Pecel Lele\n",
            "Angka 255 dalam heksadesimal adalah ff\n",
            "Angka 64 dalam oktal adalah 100\n"
          ]
        }
      ]
    },
    {
      "cell_type": "code",
      "source": [
        "# Praktikum 3\n",
        "\n",
        "# Kalkulator kasir\n",
        "harga_makan = int(input(\"Berapa harga Nasi Kucing per porsi? \"))\n",
        "jumlah_makan = int(input(\"Berapa porsi yang Anda beli? \"))\n",
        "\n",
        "total_makan = harga_makan * jumlah_makan\n",
        "\n",
        "print(f\"Harga makan per porsi = {harga_makan}, totalnya adalah {total_makan}\")\n",
        "\n",
        "\n",
        "\n",
        "\n"
      ],
      "metadata": {
        "colab": {
          "base_uri": "https://localhost:8080/"
        },
        "id": "l4JVd4ACy0O_",
        "outputId": "4d30d06f-8eec-4a93-9eda-26836bb22afe"
      },
      "execution_count": null,
      "outputs": [
        {
          "output_type": "stream",
          "name": "stdout",
          "text": [
            "Berapa harga Nasi Kucing per porsi? 4000\n",
            "Berapa porsi yang Anda beli? 5\n",
            "Harga makan per porsi = 4000, totalnya adalah 20000\n"
          ]
        }
      ]
    },
    {
      "cell_type": "code",
      "source": [
        "# Praktikum 4\n",
        "\n",
        "# Program Konversi Waktu\n",
        "\n",
        "# Input dari keyboard\n",
        "total_detik = int(input(\"Masukkan total detik: \"))\n",
        "\n",
        "# Hitung jam, menit, dan detik\n",
        "jam = total_detik // 3600\n",
        "sisa_detik = total_detik % 3600\n",
        "menit = sisa_detik // 60\n",
        "detik = sisa_detik % 60\n",
        "\n",
        "# Tampilkan hasil\n",
        "print(f\"Hasil Konversi: {jam} Jam, {menit} Menit, {detik} Detik\")\n"
      ],
      "metadata": {
        "colab": {
          "base_uri": "https://localhost:8080/"
        },
        "id": "w8rcFsmnqz5u",
        "outputId": "6824069a-50a4-4756-c23d-e2b8e7eb1528"
      },
      "execution_count": null,
      "outputs": [
        {
          "output_type": "stream",
          "name": "stdout",
          "text": [
            "Masukkan total detik: 358200\n",
            "Hasil Konversi: 99 Jam, 30 Menit, 0 Detik\n"
          ]
        }
      ]
    },
    {
      "cell_type": "code",
      "source": [
        "# Praktikum 5\n",
        "\n",
        "# Menghitung Nilai Akhir Mahasiswa\n",
        "tugas = float(input(\"Masukkan nilai tugas: \"))\n",
        "kuis = float(input(\"Masukkan nilai kuis: \"))\n",
        "uts = float(input(\"Masukkan nilai UTS: \"))\n",
        "uas = float(input(\"Masukkan nilai UAS: \"))\n",
        "praktikum = float(input(\"Masukkan nilai praktikum: \"))\n",
        "\n",
        "\n",
        "# Hitung nilai akhir (bobot bisa disesuaikan)\n",
        "nilai_mahasiswa = (0.2 * tugas) + (0.1 * kuis) + (0.25 * uts) + (0.35 * uas) + (0.1 * praktikum)\n",
        "\n",
        "standar_kelulusan = float(input(\"Masukkan standar kelulusan: \"))\n",
        "\n",
        "apakah_lulus = nilai_mahasiswa >= standar_kelulusan\n",
        "perlu_remedial = nilai_mahasiswa < standar_kelulusan\n",
        "\n",
        "print()\n",
        "print(\"=== HASIL PERHITUNGAN ===\")\n",
        "print(f\"Nilai Akhir             : %.0f\" % nilai_mahasiswa)\n",
        "print(f\"Standar Kelulusan       : %.0f\" % standar_kelulusan)\n",
        "print(f\"Apakah Mahasiswa Lulus? : {apakah_lulus}\")\n",
        "print(f\"Perlu Remedial?         : {perlu_remedial}\")\n",
        "\n"
      ],
      "metadata": {
        "id": "9RBRbWOy6K-q",
        "colab": {
          "base_uri": "https://localhost:8080/"
        },
        "outputId": "137eae8d-2361-4137-c964-0e09d026db13"
      },
      "execution_count": 4,
      "outputs": [
        {
          "output_type": "stream",
          "name": "stdout",
          "text": [
            "Masukkan nilai tugas: 95\n",
            "Masukkan nilai kuis: 80\n",
            "Masukkan nilai UTS: 78\n",
            "Masukkan nilai UAS: 88\n",
            "Masukkan nilai praktikum: 90\n",
            "Masukkan standar kelulusan: 80\n",
            "\n",
            "=== HASIL PERHITUNGAN ===\n",
            "Nilai Akhir             : 80\n",
            "Standar Kelulusan       : 80\n",
            "Apakah Mahasiswa Lulus? : False\n",
            "Perlu Remedial?         : True\n"
          ]
        }
      ]
    },
    {
      "cell_type": "code",
      "source": [
        "# Praktikum 6\n",
        "\n",
        "# Input total belanja\n",
        "belanja = float(input(\"Masukkan total belanja: \"))\n",
        "\n",
        "# Tentukan besar persen diskon (tanpa if)\n",
        "diskon_persen = (35 * (belanja > 1000000)) + (10 * ((belanja > 500000) and (belanja <= 1000000)))\n",
        "\n",
        "# Hitung nilai diskon\n",
        "diskon = (diskon_persen / 100) * belanja\n",
        "\n",
        "# Hitung total harga setelah diskon\n",
        "total_harga = belanja - diskon\n",
        "\n",
        "# Output hasil\n",
        "print()\n",
        "print(\"=== STRUK PEMBAYARAN ===\")\n",
        "print(f\"Total Belanja : Rp{belanja:,.0f}\")\n",
        "print(f\"Diskon        : {diskon_persen}%\")\n",
        "print(f\"Potongan      : Rp{diskon:,.0f}\")\n",
        "print(f\"Total Bayar   : Rp{total_harga:,.0f}\")\n"
      ],
      "metadata": {
        "colab": {
          "base_uri": "https://localhost:8080/"
        },
        "id": "awIj8w3ns-sL",
        "outputId": "2ba73fa2-aec9-4627-8112-ef37fcea1057"
      },
      "execution_count": 3,
      "outputs": [
        {
          "output_type": "stream",
          "name": "stdout",
          "text": [
            "Masukkan total belanja: 1800000\n",
            "\n",
            "=== STRUK PEMBAYARAN ===\n",
            "Total Belanja : Rp1,800,000\n",
            "Diskon        : 35%\n",
            "Potongan      : Rp630,000\n",
            "Total Bayar   : Rp1,170,000\n"
          ]
        }
      ]
    }
  ]
}