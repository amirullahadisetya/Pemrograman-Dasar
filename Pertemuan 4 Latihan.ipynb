{
  "nbformat": 4,
  "nbformat_minor": 0,
  "metadata": {
    "colab": {
      "provenance": [],
      "authorship_tag": "ABX9TyOiTBsnopIDw6B7dV/ddSAy",
      "include_colab_link": true
    },
    "kernelspec": {
      "name": "python3",
      "display_name": "Python 3"
    },
    "language_info": {
      "name": "python"
    }
  },
  "cells": [
    {
      "cell_type": "markdown",
      "metadata": {
        "id": "view-in-github",
        "colab_type": "text"
      },
      "source": [
        "<a href=\"https://colab.research.google.com/github/amirullahadisetya/Pemrograman-Dasar/blob/main/Pertemuan%204%20Latihan.ipynb\" target=\"_parent\"><img src=\"https://colab.research.google.com/assets/colab-badge.svg\" alt=\"Open In Colab\"/></a>"
      ]
    },
    {
      "cell_type": "code",
      "execution_count": null,
      "metadata": {
        "colab": {
          "base_uri": "https://localhost:8080/"
        },
        "id": "54Diick9_Lx0",
        "outputId": "dca576c8-66cc-4202-8169-8df36dafd815"
      },
      "outputs": [
        {
          "output_type": "stream",
          "name": "stdout",
          "text": [
            "Masukkan sebuah angka: 7\n",
            "Bukan kelipatan 5\n"
          ]
        }
      ],
      "source": [
        "# Latihan 1\n",
        "\n",
        "# Cek Kelipatan 5\n",
        "angka = int(input(\"Masukkan sebuah angka: \"))\n",
        "\n",
        "if angka % 5 == 0:\n",
        "    print(\"Kelipatan 5\")\n",
        "else:\n",
        "    print(\"Bukan kelipatan 5\")"
      ]
    },
    {
      "cell_type": "code",
      "source": [
        "# Latihan 2\n",
        "\n",
        "# Penentu Tahun Kabisat\n",
        "tahun = int(input(\"Masukkan tahun:\"))\n",
        "\n",
        "# Syarat Tahun Kabisat: Habis dibagi 400 ATAU (Habis dibagi 4 DAN tidak habis dibagi 100)\n",
        "if (tahun % 400 == 0) or (tahun % 4 == 0 and tahun % 100 != 0):\n",
        "    print(f\"Tahun {tahun} adalah Tahun Kabisat.\")\n",
        "else:\n",
        "    print(f\"Tahun {tahun} bukan Tahun Kabisat.\")"
      ],
      "metadata": {
        "colab": {
          "base_uri": "https://localhost:8080/"
        },
        "id": "zXamb2Yd_t19",
        "outputId": "926464fe-b88e-4f8e-907c-5845fb9d5f24"
      },
      "execution_count": null,
      "outputs": [
        {
          "output_type": "stream",
          "name": "stdout",
          "text": [
            "Masukkan tahun:2020\n",
            "Tahun 2020 adalah Tahun Kabisat.\n"
          ]
        }
      ]
    },
    {
      "cell_type": "code",
      "source": [
        "# Latihan 3\n",
        "\n",
        "# Program 3: Menentukan Tanda Bilangan\n",
        "\n",
        "print(\"Program Penentu Tanda Bilangan (Positif, Negatif, atau Nol)\")\n",
        "\n",
        "# Meminta input bilangan bulat (Program akan crash jika input bukan angka bulat)\n",
        "bilangan = int(input(\"Masukkan sebuah bilangan bulat: \"))\n",
        "\n",
        "print(\"-\" * 30)\n",
        "\n",
        "# Menggunakan kondisi if/elif/else\n",
        "if bilangan > 0:\n",
        "    # Jika bilangan lebih besar dari nol\n",
        "    print(f\"Bilangan {bilangan} adalah bilangan Positif.\")\n",
        "elif bilangan < 0:\n",
        "    # Jika bilangan lebih kecil dari nol\n",
        "    print(f\"Bilangan {bilangan} adalah bilangan Negatif.\")\n",
        "else:\n",
        "    # Satu-satunya kemungkinan yang tersisa adalah bilangan tersebut nol\n",
        "    print(f\"Bilangan {bilangan} adalah Nol.\")"
      ],
      "metadata": {
        "colab": {
          "base_uri": "https://localhost:8080/"
        },
        "id": "Rc1MEtXX__S7",
        "outputId": "c077811b-5ad8-4abe-cf44-a56dab1bff3f"
      },
      "execution_count": null,
      "outputs": [
        {
          "output_type": "stream",
          "name": "stdout",
          "text": [
            "Program Penentu Tanda Bilangan (Positif, Negatif, atau Nol)\n",
            "Masukkan sebuah bilangan bulat: 6\n",
            "------------------------------\n",
            "Bilangan 6 adalah bilangan Positif.\n"
          ]
        }
      ]
    },
    {
      "cell_type": "code",
      "source": [
        "# Latihan 4\n",
        "\n",
        "# Tampilkan Nama Bulan\n",
        "input_bulan = int(input(\"Masukkan angka bulan (1-12): \"))\n",
        "bulan_text = \"\"\n",
        "\n",
        "if input_bulan == 1:\n",
        "    bulan_text = \"Januari\"\n",
        "elif input_bulan == 2:\n",
        "    bulan_text = \"Februari\"\n",
        "elif input_bulan == 3:\n",
        "    bulan_text = \"Maret\"\n",
        "elif input_bulan == 4:\n",
        "    bulan_text = \"April\"\n",
        "elif input_bulan == 5:\n",
        "    bulan_text = \"Mei\"\n",
        "elif input_bulan == 6:\n",
        "    bulan_text = \"Juni\"\n",
        "elif input_bulan == 7:\n",
        "    bulan_text = \"Juli\"\n",
        "elif input_bulan == 8:\n",
        "    bulan_text = \"Agustus\"\n",
        "elif input_bulan == 9:\n",
        "    bulan_text = \"September\"\n",
        "elif input_bulan == 10:\n",
        "    bulan_text = \"Oktober\"\n",
        "elif input_bulan == 11:\n",
        "    bulan_text = \"November\"\n",
        "elif input_bulan == 12:\n",
        "    bulan_text = \"Desember\"\n",
        "else:\n",
        "    bulan_text = \"Input salah\"\n",
        "\n",
        "print(bulan_text)"
      ],
      "metadata": {
        "colab": {
          "base_uri": "https://localhost:8080/"
        },
        "id": "wmWjABTRB8uU",
        "outputId": "ff89a7b3-dbfc-4956-ce39-af34a548cd17"
      },
      "execution_count": null,
      "outputs": [
        {
          "output_type": "stream",
          "name": "stdout",
          "text": [
            "Masukkan angka bulan (1-12): 6\n",
            "Juni\n"
          ]
        }
      ]
    },
    {
      "cell_type": "code",
      "source": [
        "# Latihan 5\n",
        "\n",
        "# Salam Berdasarkan Jam\n",
        "jam = int(input(\"Masukkan jam (0-23): \"))\n",
        "\n",
        "if 0 <= jam <= 11:\n",
        "    print(\"Selamat Pagi\")\n",
        "elif 12 <= jam <= 15:\n",
        "    print(\"Selamat Siang\")\n",
        "elif 16 <= jam <= 18:\n",
        "    print(\"Selamat Sore\")\n",
        "elif 19 <= jam <= 23:\n",
        "    print(\"Selamat Malam\")\n",
        "else:\n",
        "    print(\"Input jam tidak valid. Harap masukkan angka antara 0 hingga 23.\")"
      ],
      "metadata": {
        "colab": {
          "base_uri": "https://localhost:8080/"
        },
        "id": "Hz1CgdFhCcj0",
        "outputId": "56f673d0-484b-4124-b433-9091b9f44ab0"
      },
      "execution_count": null,
      "outputs": [
        {
          "output_type": "stream",
          "name": "stdout",
          "text": [
            "Masukkan jam (0-23): 8\n",
            "Selamat Pagi\n"
          ]
        }
      ]
    }
  ]
}