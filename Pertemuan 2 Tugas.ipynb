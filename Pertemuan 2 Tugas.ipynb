{
  "nbformat": 4,
  "nbformat_minor": 0,
  "metadata": {
    "colab": {
      "provenance": [],
      "authorship_tag": "ABX9TyNnD6tZzQuKyiwvN9LAVmpx",
      "include_colab_link": true
    },
    "kernelspec": {
      "name": "python3",
      "display_name": "Python 3"
    },
    "language_info": {
      "name": "python"
    }
  },
  "cells": [
    {
      "cell_type": "markdown",
      "metadata": {
        "id": "view-in-github",
        "colab_type": "text"
      },
      "source": [
        "<a href=\"https://colab.research.google.com/github/amirullahadisetya/Pemrograman-Dasar/blob/main/Pertemuan%202%20Tugas.ipynb\" target=\"_parent\"><img src=\"https://colab.research.google.com/assets/colab-badge.svg\" alt=\"Open In Colab\"/></a>"
      ]
    },
    {
      "cell_type": "code",
      "execution_count": 21,
      "metadata": {
        "colab": {
          "base_uri": "https://localhost:8080/"
        },
        "id": "VX5TxTBLd2YV",
        "outputId": "4a839112-69ba-4878-c16a-3a1f39c17c86"
      },
      "outputs": [
        {
          "output_type": "stream",
          "name": "stdout",
          "text": [
            "Nama Depan     : Amirullah\n",
            "Nama Belakang  : Wicaksana\n",
            "Umur           : 19\n",
            "Status Menikah : False\n",
            "\n"
          ]
        }
      ],
      "source": [
        "# Pertemuan 2 Tugas 1.\n",
        "\n",
        "# Membuat variabel sesuai ketentuan\n",
        "firstName = \"Amirullah\"   # string\n",
        "lastName = \"Wicaksana\"    # string\n",
        "age = 19                  # integer\n",
        "isMarried = False         # boolean\n",
        "\n",
        "# Menampilkan isi variabel (opsional untuk pengecekan)\n",
        "print(\"Nama Depan     :\", firstName)\n",
        "print(\"Nama Belakang  :\", lastName)\n",
        "print(\"Umur           :\", age)\n",
        "print(\"Status Menikah :\", isMarried)\n",
        "print()\n"
      ]
    },
    {
      "cell_type": "code",
      "source": [
        "# Pertemuan 2 Tugas 2.\n",
        "\n",
        "# Membuat dictionary berisi identitas diri\n",
        "data_diri = {\n",
        "    \"firstName\": \"Amirullah\",      # tipe data string\n",
        "    \"lastName\" : \"Wicaksana\",      # tipe data string\n",
        "    \"age\"      : 19,               # tipe data integer\n",
        "    \"isMarried\": False             # tipe data boolean\n",
        "}\n",
        "\n",
        "# Menampilkan hasil dengan fungsi print()\n",
        "print(\"Data Diri:\")\n",
        "print(\"Nama Depan   :\", data_diri[\"firstName\"])\n",
        "print(\"Nama Belakang:\", data_diri[\"lastName\"])\n",
        "print(\"Umur         :\", data_diri[\"age\"])\n",
        "print(\"Status Nikah :\", data_diri[\"isMarried\"])\n",
        "print()\n",
        "\n"
      ],
      "metadata": {
        "colab": {
          "base_uri": "https://localhost:8080/"
        },
        "id": "GGnheV0J5_Zw",
        "outputId": "796f5756-5521-485e-f81d-727e2ba1d55d"
      },
      "execution_count": 20,
      "outputs": [
        {
          "output_type": "stream",
          "name": "stdout",
          "text": [
            "Data Diri:\n",
            "Nama Depan   : Amirullah\n",
            "Nama Belakang: Wicaksana\n",
            "Umur         : 19\n",
            "Status Nikah : False\n",
            "\n"
          ]
        }
      ]
    },
    {
      "cell_type": "code",
      "source": [
        "# Pertemuan 2 Tugas 3.\n",
        "\n",
        "# Membuat list inspeksi sesuai instruksi\n",
        "inspeksi = [\n",
        "    \"pemahaman terhadap rencana dan desain\",\n",
        "    \"ketersediaan bahan dan peralatan\",\n",
        "    \"pengawasan pekerjaan\",\n",
        "    \"kualitas konstruksi\",\n",
        "    \"keselamatan kerja\",\n",
        "    \"koordinasi dengan pemilik proyek\"\n",
        "]\n",
        "\n",
        "# Menampilkan hasil dengan print()\n",
        "print(\"Daftar Inspeksi Proyek:\")\n",
        "for item in inspeksi:\n",
        "   print(\"-\", item)\n",
        "print()"
      ],
      "metadata": {
        "colab": {
          "base_uri": "https://localhost:8080/"
        },
        "id": "jaJzjFxo6cb_",
        "outputId": "3dc05d12-3817-4936-eb1b-348243887ef2"
      },
      "execution_count": 19,
      "outputs": [
        {
          "output_type": "stream",
          "name": "stdout",
          "text": [
            "Daftar Inspeksi Proyek:\n",
            "- pemahaman terhadap rencana dan desain\n",
            "- ketersediaan bahan dan peralatan\n",
            "- pengawasan pekerjaan\n",
            "- kualitas konstruksi\n",
            "- keselamatan kerja\n",
            "- koordinasi dengan pemilik proyek\n",
            "\n"
          ]
        }
      ]
    },
    {
      "cell_type": "code",
      "source": [
        "# Pertemuan 2 Tugas 4.\n",
        "\n",
        "# Waktu datang (start time)\n",
        "startTime = {\n",
        "    \"HH\": 9,    # Jam\n",
        "    \"mm\": 23,   # Menit\n",
        "    \"ss\": 57    # Detik\n",
        "}\n",
        "\n",
        "# Waktu pulang (end time)\n",
        "endTime = {\n",
        "    \"HH\": 15,   # Jam\n",
        "    \"mm\": 25,   # Menit\n",
        "    \"ss\": 43    # Detik\n",
        "}\n",
        "\n",
        "# Menampilkan hasil\n",
        "print(\"Waktu Datang (Start Time):\")\n",
        "print(f\"{startTime['HH']:02d}:{startTime['mm']:02d}:{startTime['ss']:02d}\")\n",
        "\n",
        "print(\"Waktu Pulang (End Time):\")\n",
        "print(f\"{endTime['HH']:02d}:{endTime['mm']:02d}:{endTime['ss']:02d}\")\n",
        "print()\n",
        "\n"
      ],
      "metadata": {
        "colab": {
          "base_uri": "https://localhost:8080/"
        },
        "id": "i67OLgkm6dcZ",
        "outputId": "b69b9cad-ef72-46c7-c181-6332cde3f114"
      },
      "execution_count": 18,
      "outputs": [
        {
          "output_type": "stream",
          "name": "stdout",
          "text": [
            "Waktu Datang (Start Time):\n",
            "09:23:57\n",
            "Waktu Pulang (End Time):\n",
            "15:25:43\n",
            "\n"
          ]
        }
      ]
    },
    {
      "cell_type": "code",
      "source": [
        "# Pertemuan 2 Tugas 5\n",
        "\n",
        "# Katalog dari dua pemasok (dalam bentuk set)\n",
        "katalog_A = {\"Laptop\", \"Mouse\", \"Keyboard\", \"Monitor\", \"Flashdisk\"}\n",
        "katalog_B = {\"Printer\", \"Scanner\", \"Monitor\", \"Mouse\", \"Webcam\"}\n",
        "\n",
        "# Daftar produk diskon (dalam bentuk tuple)\n",
        "produk_diskon = (\"Mouse\", \"Webcam\", \"Speaker\", \"Flashdisk\")\n",
        "\n",
        "# 1. Gabungkan katalog_A dan katalog_B menjadi satu set unik: katalog_lengkap\n",
        "katalog_lengkap = katalog_A.union(katalog_B)\n",
        "\n",
        "# 2. Cari produk dari katalog_lengkap yang juga ada di produk_diskon\n",
        "produk_promo_aktif = katalog_lengkap.intersection(produk_diskon)\n",
        "\n",
        "# Cetak hasil\n",
        "print(\"Katalog A       :\", katalog_A)\n",
        "print(\"Katalog B       :\", katalog_B)\n",
        "print(\"Katalog Lengkap :\", katalog_lengkap)\n",
        "print(\"Produk Diskon   :\", produk_diskon)\n",
        "print(\"Promo Aktif     :\", produk_promo_aktif)\n"
      ],
      "metadata": {
        "colab": {
          "base_uri": "https://localhost:8080/"
        },
        "id": "ICDAWioK6jHC",
        "outputId": "c63cfab3-1091-409d-fb53-8b02b2953d35"
      },
      "execution_count": 17,
      "outputs": [
        {
          "output_type": "stream",
          "name": "stdout",
          "text": [
            "Katalog A       : {'Mouse', 'Flashdisk', 'Monitor', 'Keyboard', 'Laptop'}\n",
            "Katalog B       : {'Scanner', 'Webcam', 'Monitor', 'Printer', 'Mouse'}\n",
            "Katalog Lengkap : {'Flashdisk', 'Mouse', 'Laptop', 'Scanner', 'Monitor', 'Webcam', 'Printer', 'Keyboard'}\n",
            "Produk Diskon   : ('Mouse', 'Webcam', 'Speaker', 'Flashdisk')\n",
            "Promo Aktif     : {'Flashdisk', 'Webcam', 'Mouse'}\n"
          ]
        }
      ]
    }
  ]
}