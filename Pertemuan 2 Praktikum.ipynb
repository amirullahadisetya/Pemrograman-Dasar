{
  "nbformat": 4,
  "nbformat_minor": 0,
  "metadata": {
    "colab": {
      "provenance": [],
      "authorship_tag": "ABX9TyMaLLrJhYOGepxbpMFUcRxU",
      "include_colab_link": true
    },
    "kernelspec": {
      "name": "python3",
      "display_name": "Python 3"
    },
    "language_info": {
      "name": "python"
    }
  },
  "cells": [
    {
      "cell_type": "markdown",
      "metadata": {
        "id": "view-in-github",
        "colab_type": "text"
      },
      "source": [
        "<a href=\"https://colab.research.google.com/github/amirullahadisetya/Pemrograman-Dasar/blob/main/Pertemuan%202%20Praktikum.ipynb\" target=\"_parent\"><img src=\"https://colab.research.google.com/assets/colab-badge.svg\" alt=\"Open In Colab\"/></a>"
      ]
    },
    {
      "cell_type": "code",
      "execution_count": 3,
      "metadata": {
        "colab": {
          "base_uri": "https://localhost:8080/"
        },
        "id": "jAScpUAJIGTW",
        "outputId": "5dab70ee-3f80-4d59-caf4-9bea706d26e2"
      },
      "outputs": [
        {
          "output_type": "stream",
          "name": "stdout",
          "text": [
            "[1, 2, 4]\n"
          ]
        }
      ],
      "source": [
        "# Praktikum 1\n",
        "\n",
        "# deklarasi variabel list numbers\n",
        "numbers = [1, 2, 3]\n",
        "\n",
        "# menambahkan elemen di indeks ke-4\n",
        "numbers.insert(4, 5)  # [1, 2, 3, 5]\n",
        "\n",
        "# mengubah elemen di indeks ke-4\n",
        "numbers[3] = 4        # [1, 2, 3, 4]\n",
        "\n",
        "# menghapus elemen di indeks ke-2\n",
        "numbers.pop(2)        # [1, 2, 4]\n",
        "\n",
        "# print lalu lihat hasilnya\n",
        "print(numbers)\n"
      ]
    },
    {
      "cell_type": "code",
      "source": [
        "# Praktikum 2\n",
        "\n",
        "# deklarasi variabel list\n",
        "myList = [1, \"Rumah\", 4.5, True, [\"Kamar mandi\", \"Kamar tidur\"]]\n",
        "\n",
        "# cara mengakses elemen dalam variabel list\n",
        "print(myList[0])   # 1\n",
        "print(myList[1])   # \"Rumah\"\n",
        "print(myList[3])   # True\n",
        "print(myList[4])   # [\"Kamar mandi\", \"Kamar tidur\"]\n",
        "\n",
        "# cara mengakses elemen dalam sublist\n",
        "print(myList[4][0])  # \"Kamar mandi\"\n",
        "print(myList[4][1])  # \"Kamar tidur\"\n"
      ],
      "metadata": {
        "colab": {
          "base_uri": "https://localhost:8080/"
        },
        "id": "i6Un0f-XKP2B",
        "outputId": "5e476222-1722-45ef-ca8b-859f42fff5de"
      },
      "execution_count": 4,
      "outputs": [
        {
          "output_type": "stream",
          "name": "stdout",
          "text": [
            "1\n",
            "Rumah\n",
            "True\n",
            "['Kamar mandi', 'Kamar tidur']\n",
            "Kamar mandi\n",
            "Kamar tidur\n"
          ]
        }
      ]
    },
    {
      "cell_type": "code",
      "source": [
        "# Praktikum 3\n",
        "\n",
        "# deklarasi variabel tuple\n",
        "numbers = (23, 43, 15, 34)\n",
        "\n",
        "# cara mengakses elemen dalam variabel tuple\n",
        "print(numbers[0])   # 23\n",
        "print(numbers[1])   # 43\n",
        "print(numbers[2])   # 15\n",
        "\n",
        "# lakukan print lalu amati hasilnya\n"
      ],
      "metadata": {
        "colab": {
          "base_uri": "https://localhost:8080/"
        },
        "id": "JJB2k0APK4cr",
        "outputId": "82fc9bdf-52a8-430b-b383-3d951ff7838d"
      },
      "execution_count": 5,
      "outputs": [
        {
          "output_type": "stream",
          "name": "stdout",
          "text": [
            "23\n",
            "43\n",
            "15\n"
          ]
        }
      ]
    },
    {
      "cell_type": "code",
      "source": [
        "# Praktikum 4\n",
        "\n",
        "# deklarasi variabel set a dan b\n",
        "a = {1, 2, 3}\n",
        "b = {2, 3, 4}\n",
        "\n",
        "# operasi gabungan\n",
        "print(\"Gabungan:\", a.union(b))  # {1, 2, 3, 4}\n",
        "\n",
        "# operasi irisan\n",
        "print(\"Irisan:\", a.intersection(b))  # {2, 3}\n",
        "\n",
        "# operasi perbedaan simetris\n",
        "print(\"Perbedaan simetris:\", a.symmetric_difference(b))  # {1, 4}\n",
        "\n",
        "# lakukan print dan lihat hasilnya\n"
      ],
      "metadata": {
        "colab": {
          "base_uri": "https://localhost:8080/"
        },
        "id": "q7Ss3CyILL4G",
        "outputId": "8df94bad-8947-49db-eb7e-7dc7727d78af"
      },
      "execution_count": 6,
      "outputs": [
        {
          "output_type": "stream",
          "name": "stdout",
          "text": [
            "Gabungan: {1, 2, 3, 4}\n",
            "Irisan: {2, 3}\n",
            "Perbedaan simetris: {1, 4}\n"
          ]
        }
      ]
    },
    {
      "cell_type": "code",
      "source": [
        "# deklarasi variabel dictionary\n",
        "propertyDetail = {\n",
        "    \"numFloors\": 1,\n",
        "    \"propertyType\": \"Rumah\",\n",
        "    \"hasTerrace\": True,\n",
        "    \"hasGarage\": False\n",
        "}\n",
        "\n",
        "# cara mengakses elemen dalam variabel dictionary\n",
        "print(propertyDetail[\"numFloors\"])      # 1\n",
        "print(propertyDetail[\"propertyType\"])   # \"Rumah\"\n",
        "print(propertyDetail[\"hasTerrace\"])     # True\n",
        "print(propertyDetail[\"hasGarage\"])      # False\n",
        "\n",
        "# cara mengubah nilai elemen dalam variabel dictionary\n",
        "propertyDetail[\"hasTerrace\"] = False\n",
        "\n",
        "# mencetak nilai yang sudah diubah\n",
        "print(propertyDetail[\"hasTerrace\"])     # False\n",
        "\n",
        "# mencetak propertyType\n",
        "print(propertyDetail[\"propertyType\"])   # \"Rumah\"\n",
        "\n",
        "# lakukan print lalu amati hasilnya\n"
      ],
      "metadata": {
        "colab": {
          "base_uri": "https://localhost:8080/"
        },
        "id": "7a2H-XndL_gR",
        "outputId": "f4089e77-c8ac-4306-c6a3-f0f67cc0fd69"
      },
      "execution_count": 7,
      "outputs": [
        {
          "output_type": "stream",
          "name": "stdout",
          "text": [
            "1\n",
            "Rumah\n",
            "True\n",
            "False\n",
            "False\n",
            "Rumah\n"
          ]
        }
      ]
    }
  ]
}