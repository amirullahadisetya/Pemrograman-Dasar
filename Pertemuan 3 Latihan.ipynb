{
  "nbformat": 4,
  "nbformat_minor": 0,
  "metadata": {
    "colab": {
      "provenance": [],
      "authorship_tag": "ABX9TyOnpXQuPdg0P9spUt44vuZD",
      "include_colab_link": true
    },
    "kernelspec": {
      "name": "python3",
      "display_name": "Python 3"
    },
    "language_info": {
      "name": "python"
    }
  },
  "cells": [
    {
      "cell_type": "markdown",
      "metadata": {
        "id": "view-in-github",
        "colab_type": "text"
      },
      "source": [
        "<a href=\"https://colab.research.google.com/github/amirullahadisetya/Pemrograman-Dasar/blob/main/Pertemuan%203%20Latihan%201%20dan%202.ipynb\" target=\"_parent\"><img src=\"https://colab.research.google.com/assets/colab-badge.svg\" alt=\"Open In Colab\"/></a>"
      ]
    },
    {
      "cell_type": "code",
      "execution_count": null,
      "metadata": {
        "colab": {
          "base_uri": "https://localhost:8080/"
        },
        "id": "pIIyEN_fyw2P",
        "outputId": "e69969a4-b672-4c2f-de2d-e15534d68211"
      },
      "outputs": [
        {
          "output_type": "stream",
          "name": "stdout",
          "text": [
            "Masukkan tahun: 2028\n",
            "2028 adalah tahun KABISAT\n"
          ]
        }
      ],
      "source": [
        "# Latihan 1\n",
        "\n",
        "# Program Menentukan Tahun Kabisat (tanpa if)\n",
        "\n",
        "tahun = int(input(\"Masukkan tahun: \"))\n",
        "\n",
        "print({\n",
        "    True: f\"{tahun} adalah tahun KABISAT\",\n",
        "    False: f\"{tahun} BUKAN tahun kabisat\"\n",
        "}[(tahun % 4 == 0 and tahun % 100 != 0) or (tahun % 400 == 0)])\n",
        "\n"
      ]
    },
    {
      "cell_type": "code",
      "source": [
        "# Latihan 2\n",
        "\n",
        "# Program Mengecek Angka Genap atau Ganjil (tanpa if)\n",
        "\n",
        "angka = int(input(\"Masukkan sebuah angka: \"))\n",
        "\n",
        "print({0: f\"{angka} adalah bilangan GENAP\",\n",
        "       1: f\"{angka} adalah bilangan GANJIL\"}[angka % 2])\n"
      ],
      "metadata": {
        "colab": {
          "base_uri": "https://localhost:8080/"
        },
        "id": "QnYZdRoy20NL",
        "outputId": "6acfa702-ecf7-402e-f2b3-15fc673abbd8"
      },
      "execution_count": null,
      "outputs": [
        {
          "output_type": "stream",
          "name": "stdout",
          "text": [
            "Masukkan sebuah angka: 453\n",
            "453 adalah bilangan GANJIL\n"
          ]
        }
      ]
    }
  ]
}
